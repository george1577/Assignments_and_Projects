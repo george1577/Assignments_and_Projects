{
 "cells": [
  {
   "cell_type": "markdown",
   "metadata": {},
   "source": [
    "## US Gun Deaths Data Set\n",
    "\n",
    "[Original article by FiveThirtyEight about Guns](http://fivethirtyeight.com/features/gun-deaths/)\n",
    "\n",
    "The data set contains cleaned gun-death data from the CDC for 2012-2014."
   ]
  },
  {
   "cell_type": "markdown",
   "metadata": {},
   "source": [
    "### Assignment\n",
    "\n",
    "- Import the csv\n",
    "- Read it into a list\n",
    "- Preview the first 5 entries"
   ]
  },
  {
   "cell_type": "code",
   "execution_count": 1,
   "metadata": {},
   "outputs": [
    {
     "name": "stdout",
     "output_type": "stream",
     "text": [
      "[['', 'year', 'month', 'intent', 'police', 'sex', 'age', 'race', 'hispanic', 'place', 'education'], ['1', '2012', '01', 'Suicide', '0', 'M', '34', 'Asian/Pacific Islander', '100', 'Home', '4'], ['2', '2012', '01', 'Suicide', '0', 'F', '21', 'White', '100', 'Street', '3'], ['3', '2012', '01', 'Suicide', '0', 'M', '60', 'White', '100', 'Other specified', '4'], ['4', '2012', '02', 'Suicide', '0', 'M', '64', 'White', '100', 'Home', '4']]\n"
     ]
    }
   ],
   "source": [
    "import csv\n",
    "f = open('guns.csv')\n",
    "gun = list(csv.reader(f))\n",
    "print(gun[0:5])"
   ]
  },
  {
   "cell_type": "markdown",
   "metadata": {},
   "source": [
    "### Assignment\n",
    "\n",
    "- Remove the header row from the list of lists\n",
    "- Save it to a separate list"
   ]
  },
  {
   "cell_type": "code",
   "execution_count": 2,
   "metadata": {},
   "outputs": [
    {
     "name": "stdout",
     "output_type": "stream",
     "text": [
      "[['1', '2012', '01', 'Suicide', '0', 'M', '34', 'Asian/Pacific Islander', '100', 'Home', '4'], ['2', '2012', '01', 'Suicide', '0', 'F', '21', 'White', '100', 'Street', '3'], ['3', '2012', '01', 'Suicide', '0', 'M', '60', 'White', '100', 'Other specified', '4'], ['4', '2012', '02', 'Suicide', '0', 'M', '64', 'White', '100', 'Home', '4'], ['5', '2012', '02', 'Suicide', '0', 'M', '31', 'White', '100', 'Other specified', '2']]\n"
     ]
    }
   ],
   "source": [
    "gun_clean = gun[1:]\n",
    "print(gun_clean[0:5])"
   ]
  },
  {
   "cell_type": "markdown",
   "metadata": {},
   "source": [
    "### Assignment\n",
    "\n",
    "- Count the number of gun deaths by year\n",
    "    - It may help to do a list comprehension to get the years\n",
    "    - Iterate over the years with a dictionary to keep count\n",
    "    \n",
    "    "
   ]
  },
  {
   "cell_type": "code",
   "execution_count": 3,
   "metadata": {},
   "outputs": [
    {
     "name": "stdout",
     "output_type": "stream",
     "text": [
      "{'2012': 33563, '2013': 33636, '2014': 33599}\n"
     ]
    }
   ],
   "source": [
    "def count(L):\n",
    "    death = {}\n",
    "    for i in L:\n",
    "        if i[1] in death:\n",
    "            death[i[1]] += 1\n",
    "        else:\n",
    "            death[i[1]] = 1\n",
    "    return death\n",
    "print(count(gun_clean))"
   ]
  },
  {
   "cell_type": "markdown",
   "metadata": {},
   "source": [
    "### Assignment\n",
    "\n",
    "- Import the datetime library\n",
    "- Create a new list called \"dates\" with values from the data (set all the day values to 1)    \n",
    "- Count they number of gun deaths by month and year\n",
    "\n"
   ]
  },
  {
   "cell_type": "code",
   "execution_count": 9,
   "metadata": {},
   "outputs": [
    {
     "name": "stdout",
     "output_type": "stream",
     "text": [
      "{'2012/01/01': 2758, '2012/02/01': 2357, '2012/03/01': 2743, '2012/04/01': 2795, '2012/05/01': 2999, '2012/06/01': 2826, '2012/07/01': 3026, '2012/08/01': 2954, '2012/09/01': 2852, '2012/10/01': 2733, '2012/11/01': 2729, '2012/12/01': 2791, '2013/01/01': 2864, '2013/02/01': 2375, '2013/03/01': 2862, '2013/04/01': 2798, '2013/05/01': 2806, '2013/06/01': 2920, '2013/07/01': 3079, '2013/08/01': 2859, '2013/09/01': 2742, '2013/10/01': 2808, '2013/11/01': 2758, '2013/12/01': 2765, '2014/01/01': 2651, '2014/02/01': 2361, '2014/03/01': 2684, '2014/04/01': 2862, '2014/05/01': 2864, '2014/06/01': 2931, '2014/07/01': 2884, '2014/08/01': 2970, '2014/09/01': 2914, '2014/10/01': 2865, '2014/11/01': 2756, '2014/12/01': 2857}\n"
     ]
    }
   ],
   "source": [
    "from datetime import date\n",
    "def count_year_month(L):\n",
    "    count = {}\n",
    "    for i in L:\n",
    "        d = date(int(i[1]), int(i[2]), 1)\n",
    "        if d.strftime('%Y/%m/%d') in count:\n",
    "            count[d.strftime('%Y/%m/%d')] += 1\n",
    "        else:\n",
    "            count[d.strftime('%Y/%m/%d')] = 1\n",
    "    return count\n",
    "print(count_year_month(gun_clean))      \n"
   ]
  },
  {
   "cell_type": "markdown",
   "metadata": {},
   "source": [
    "### Assignment\n",
    "\n",
    "- Find the number of gun deaths by Sex\n",
    "- Find the number of gun deaths by Race\n",
    "- How does this compare to the overall population in the US?"
   ]
  },
  {
   "cell_type": "code",
   "execution_count": 23,
   "metadata": {},
   "outputs": [
    {
     "name": "stdout",
     "output_type": "stream",
     "text": [
      "{'M': 86349, 'F': 14449}\n",
      "{'Asian/Pacific Islander': 1326, 'White': 66237, 'Native American/Native Alaskan': 917, 'Black': 23296, 'Hispanic': 9022}\n"
     ]
    }
   ],
   "source": [
    "def sex(L):\n",
    "    sex_count = {}\n",
    "    for i in L:\n",
    "        if i[5] in sex_count:\n",
    "            sex_count[i[5]] += 1\n",
    "        else:\n",
    "            sex_count[i[5]] = 1\n",
    "    return sex_count\n",
    "print(sex(gun_clean))\n",
    "\n",
    "def race(L):\n",
    "    race_count = {}\n",
    "    for i in L:\n",
    "        if i[7] in race_count:\n",
    "            race_count[i[7]] += 1\n",
    "        else:\n",
    "            race_count[i[7]] = 1\n",
    "    return race_count\n",
    "print(race(gun_clean))\n",
    "\n"
   ]
  },
  {
   "cell_type": "markdown",
   "metadata": {},
   "source": [
    "### Assignment\n",
    "\n",
    "- Reuse the data structure counting deaths by race\n",
    "- Use the dictionary below that has the actual population of each race\n",
    "- Compute the rates of gun deaths per race per 100,000 people\n",
    "\n",
    "mapping = {\n",
    "    \"Asian/Pacific Islander\": 15159516 + 674625,\n",
    "    \"Native American/Native Alaskan\": 3739506,\n",
    "    \"Black\": 40250635,\n",
    "    \"Hispanic\": 44618105,\n",
    "    \"White\": 197318956\n",
    "}"
   ]
  },
  {
   "cell_type": "code",
   "execution_count": 17,
   "metadata": {},
   "outputs": [
    {
     "name": "stdout",
     "output_type": "stream",
     "text": [
      "{'Asian/Pacific Islander': 8, 'White': 33, 'Native American/Native Alaskan': 24, 'Black': 57, 'Hispanic': 20}\n"
     ]
    }
   ],
   "source": [
    "mapping = { \"Asian/Pacific Islander\": 15159516 + 674625, \"Native American/Native Alaskan\": 3739506, \"Black\": 40250635, \"Hispanic\": 44618105, \"White\": 197318956 }\n",
    "def death_rate(L):\n",
    "    rate = {}\n",
    "    for i in race(L):\n",
    "        rate[i] = int(race(L)[i]/mapping[i] * 100000)\n",
    "    return rate\n",
    "print(death_rate(gun_clean))                 "
   ]
  },
  {
   "cell_type": "markdown",
   "metadata": {},
   "source": [
    "### Assignment\n",
    "\n",
    "You may not know this, but over half of all gun deaths are suicide.\n",
    "\n",
    "- Redo the computation of rates of gun deaths per race per 100,000 people\n",
    "- This time only count those that are \"Homicide\"\n",
    "- How are these different than the previous calculation?\n"
   ]
  },
  {
   "cell_type": "code",
   "execution_count": 26,
   "metadata": {},
   "outputs": [
    {
     "name": "stdout",
     "output_type": "stream",
     "text": [
      "{'White': 4, 'Asian/Pacific Islander': 3, 'Black': 48, 'Native American/Native Alaskan': 8, 'Hispanic': 12}\n"
     ]
    }
   ],
   "source": [
    "def death_rate_h(L):\n",
    "    rate_h = {}\n",
    "    temp = []\n",
    "    for i in L:\n",
    "        if i[3] == 'Homicide':\n",
    "            temp.append(i)\n",
    "    return death_rate(temp)\n",
    "print(death_rate_h(gun_clean))"
   ]
  }
 ],
 "metadata": {
  "anaconda-cloud": {},
  "kernelspec": {
   "display_name": "Python 3",
   "language": "python",
   "name": "python3"
  },
  "language_info": {
   "codemirror_mode": {
    "name": "ipython",
    "version": 3
   },
   "file_extension": ".py",
   "mimetype": "text/x-python",
   "name": "python",
   "nbconvert_exporter": "python",
   "pygments_lexer": "ipython3",
   "version": "3.6.5"
  }
 },
 "nbformat": 4,
 "nbformat_minor": 1
}
