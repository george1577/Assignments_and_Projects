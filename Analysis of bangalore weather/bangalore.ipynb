{
 "cells": [
  {
   "cell_type": "markdown",
   "metadata": {},
   "source": [
    "## Data Analysis with pandas\n",
    "\n",
    "We are going to examine data from the [Bangalore Open Data Repository](https://github.com/openbangalore/bangalore). Bangalore is the 3rd most populous city in India and widely regarded as the Silicon Valley of India."
   ]
  },
  {
   "cell_type": "markdown",
   "metadata": {},
   "source": [
    "### Task 1 - Load Data\n",
    "\n",
    "- Read in the data to pandas\n",
    "- Check the shape of the dataframe\n",
    "- Check the summary statistics of the dataframe\n",
    "- Change the row index to the \"Year\" column"
   ]
  },
  {
   "cell_type": "code",
   "execution_count": null,
   "metadata": {
    "collapsed": true
   },
   "outputs": [],
   "source": []
  },
  {
   "cell_type": "markdown",
   "metadata": {},
   "source": [
    "### Task 2 - Initial Data Analysis\n",
    "\n",
    "- (Chart) How does temperature vary over the year (X-axis is months)?\n",
    "- (Chart) How does temperature vary over the years (X-axis is years)?\n",
    "- Which months had the highest and lowest temperatures in 1960?\n",
    "- What were the highest, lowest and mean values in 1960?\n",
    "- Where were the highest, lowest and mean values in an arbitray year (hint: write a function)?\n",
    "- Which months had the highest and lowest gains in temperature?\n",
    "- Make a histogram, KDE plot and bar plot of the gains."
   ]
  },
  {
   "cell_type": "code",
   "execution_count": null,
   "metadata": {
    "collapsed": true
   },
   "outputs": [],
   "source": []
  },
  {
   "cell_type": "markdown",
   "metadata": {},
   "source": [
    "### Task 3 - Visualization\n",
    "\n",
    "matplotlib\n",
    "- Make a histogram for a particular month.\n",
    "- Compare distributions for 2 months (histograms on subplots).\n",
    "- Compare two years in the same histogram (use color coding).\n",
    "- Define a function to compare two months in the same frame.\n",
    "- Create a box plot for 1 month.\n",
    "- Create a box plot for 2 months on 1 figure.\n",
    "- Create a function that compares 2 months via boxplot.\n",
    "\n",
    "seaborn\n",
    "- Make a KDE plot of one month.\n",
    "- Make a function that compares the KDE plots of 2 months.\n",
    "- Compare the histogram and KDE plots of 2 months on the same figure.\n",
    "- Create a Facetgrid version of the KDE plots. Loop through a months array.\n",
    "- Create a violin plot for 1 month.\n",
    "- Create a violin plot for 2 months on 1 figure.\n",
    "- Create a function that compares 2 months via violin plot."
   ]
  },
  {
   "cell_type": "code",
   "execution_count": null,
   "metadata": {
    "collapsed": true
   },
   "outputs": [],
   "source": []
  },
  {
   "cell_type": "markdown",
   "metadata": {},
   "source": [
    "### Task 4 - Insight\n",
    "\n",
    "- Visually represent the varying temperatures over the entire period.\n",
    "- Find the coldest and warmest months for May over the entire period."
   ]
  },
  {
   "cell_type": "code",
   "execution_count": null,
   "metadata": {
    "collapsed": true
   },
   "outputs": [],
   "source": []
  }
 ],
 "metadata": {
  "anaconda-cloud": {},
  "kernelspec": {
   "display_name": "Python [default]",
   "language": "python",
   "name": "python3"
  },
  "language_info": {
   "codemirror_mode": {
    "name": "ipython",
    "version": 3
   },
   "file_extension": ".py",
   "mimetype": "text/x-python",
   "name": "python",
   "nbconvert_exporter": "python",
   "pygments_lexer": "ipython3",
   "version": "3.5.2"
  }
 },
 "nbformat": 4,
 "nbformat_minor": 1
}
