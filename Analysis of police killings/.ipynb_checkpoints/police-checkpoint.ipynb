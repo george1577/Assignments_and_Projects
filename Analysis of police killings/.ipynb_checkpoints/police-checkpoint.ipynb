{
 "cells": [
  {
   "cell_type": "markdown",
   "metadata": {},
   "source": [
    "## Police Killings\n",
    "\n",
    "The Guardian launched “The Counted,” an impressive interactive database of Americans killed by police since the start of the year. It started in 2015, but you can check the recent stats for 2016. We will explore the data by race, income and state."
   ]
  },
  {
   "cell_type": "markdown",
   "metadata": {},
   "source": [
    "### Assignment\n",
    "\n",
    "- Import the data and examine the head and columns\n",
    "- Get the total counts for each racial grouping\n",
    "- Find the relative % for each racial grouping\n",
    "- How do the killings compare with the overall US breakdown of population by race?"
   ]
  },
  {
   "cell_type": "code",
   "execution_count": 79,
   "metadata": {},
   "outputs": [
    {
     "name": "stdout",
     "output_type": "stream",
     "text": [
      "                 name age gender    raceethnicity     month  day  year  \\\n",
      "0  A'donte Washington  16   Male            Black  February   23  2015   \n",
      "1      Aaron Rutledge  27   Male            White     April    2  2015   \n",
      "2         Aaron Siler  26   Male            White     March   14  2015   \n",
      "3        Aaron Valdez  25   Male  Hispanic/Latino     March   11  2015   \n",
      "4        Adam Jovicic  29   Male            White     March   19  2015   \n",
      "\n",
      "            streetaddress          city state    ...     share_hispanic  \\\n",
      "0            Clearview Ln     Millbrook    AL    ...                5.6   \n",
      "1  300 block Iris Park Dr     Pineville    LA    ...                0.5   \n",
      "2    22nd Ave and 56th St       Kenosha    WI    ...               16.8   \n",
      "3       3000 Seminole Ave    South Gate    CA    ...               98.8   \n",
      "4          364 Hiwood Ave  Munroe Falls    OH    ...                1.7   \n",
      "\n",
      "   p_income  h_income  county_income  comp_income  county_bucket  nat_bucket  \\\n",
      "0     28375   51367.0          54766     0.937936            3.0         3.0   \n",
      "1     14678   27972.0          40930     0.683411            2.0         1.0   \n",
      "2     25286   45365.0          54930     0.825869            2.0         3.0   \n",
      "3     17194   48295.0          55909     0.863814            3.0         3.0   \n",
      "4     33954   68785.0          49669     1.384868            5.0         4.0   \n",
      "\n",
      "    pov     urate   college  \n",
      "0  14.1  0.097686  0.168510  \n",
      "1  28.8  0.065724  0.111402  \n",
      "2  14.6  0.166293  0.147312  \n",
      "3  11.7  0.124827  0.050133  \n",
      "4   1.9  0.063550  0.403954  \n",
      "\n",
      "[5 rows x 34 columns]\n",
      "name                     object\n",
      "age                      object\n",
      "gender                   object\n",
      "raceethnicity            object\n",
      "month                    object\n",
      "day                       int64\n",
      "year                      int64\n",
      "streetaddress            object\n",
      "city                     object\n",
      "state                    object\n",
      "latitude                float64\n",
      "longitude               float64\n",
      "state_fp                  int64\n",
      "county_fp                 int64\n",
      "tract_ce                  int64\n",
      "geo_id                    int64\n",
      "county_id                 int64\n",
      "namelsad                 object\n",
      "lawenforcementagency     object\n",
      "cause                    object\n",
      "armed                    object\n",
      "pop                       int64\n",
      "share_white              object\n",
      "share_black              object\n",
      "share_hispanic           object\n",
      "p_income                 object\n",
      "h_income                float64\n",
      "county_income             int64\n",
      "comp_income             float64\n",
      "county_bucket           float64\n",
      "nat_bucket              float64\n",
      "pov                      object\n",
      "urate                   float64\n",
      "college                 float64\n",
      "dtype: object\n",
      "White                     216\n",
      "Black                     127\n",
      "Hispanic/Latino            65\n",
      "Unknown                    14\n",
      "Asian/Pacific Islander     10\n",
      "Native American             4\n",
      "Name: raceethnicity, dtype: int64\n",
      "White                     49.541284\n",
      "Black                     29.128440\n",
      "Hispanic/Latino           14.908257\n",
      "Unknown                    3.211009\n",
      "Asian/Pacific Islander     2.293578\n",
      "Native American            0.917431\n",
      "Name: raceethnicity, dtype: float64\n"
     ]
    }
   ],
   "source": [
    "import pandas as pd\n",
    "import numpy as np\n",
    "import matplotlib.pyplot as plt\n",
    "police = pd.read_csv('police_killings.csv', encoding = 'ISO-8859-1').dropna()\n",
    "#examine head\n",
    "print(police.head())\n",
    "#examine columns\n",
    "print(police.dtypes)\n",
    "\n",
    "#Get the total counts for each racial grouping\n",
    "print(police['raceethnicity'].value_counts())\n",
    "\n",
    "#Find the relative % for each racial grouping\n",
    "print(police['raceethnicity'].value_counts()/police.shape[0]*100)\n"
   ]
  },
  {
   "cell_type": "markdown",
   "metadata": {},
   "source": [
    "### Assignment\n",
    "\n",
    "- Graph the killings by race using a bar chart. Make sure to label the graph and axes\n",
    "- Graph the killings by \"p_income\" using a histogram with different bin amounts (remember to remove any \"-\" values)\n",
    "- Calculate the median \"p_income\""
   ]
  },
  {
   "cell_type": "code",
   "execution_count": 77,
   "metadata": {},
   "outputs": [
    {
     "name": "stdout",
     "output_type": "stream",
     "text": [
      "Median income : 22245.0\n"
     ]
    },
    {
     "data": {
      "image/png": "[encoded data removed]",
      "text/plain": [
       "<Figure size 432x288 with 1 Axes>"
      ]
     },
     "metadata": {},
     "output_type": "display_data"
    },
    {
     "data": {
      "image/png": "[encoded data removed]",
      "text/plain": [
       "<Figure size 648x432 with 1 Axes>"
      ]
     },
     "metadata": {},
     "output_type": "display_data"
    }
   ],
   "source": [
    "killing_race = police['raceethnicity'].value_counts()\n",
    "gp = killing_race.plot(kind = 'bar', x = 'raceethnicity', title = 'Killings by Race')\n",
    "gp.set_xlabel('Race')\n",
    "gp.set_ylabel('Number')\n",
    "\n",
    "police.hist(column = 'p_income', figsize = (9,6), bins = 20)\n",
    "\n",
    "#Calculate the median \"p_income\"\n",
    "median_income = police['p_income'].median()\n",
    "print('Median income : {}'.format(median_income))\n",
    "\n",
    "\n",
    "\n",
    "\n"
   ]
  },
  {
   "cell_type": "markdown",
   "metadata": {},
   "source": [
    "### Assignment\n",
    "\n",
    "- Find the total killings per each state\n",
    "- Create a new dataframe and remove any \"-\" from the following columns \"share_white\", \"share_black\" and \"share_hispanic\" \n",
    "- Convert the values in those columns to float types\n",
    "- Find the mean of 'pop', 'county_income' and those 3 columns for the following subsets\n",
    "    \n",
    "    lowest_states = [\"CT\", \"PA\", \"IA\", \"NY\", \"MA\", \"NH\", \"ME\", \"IL\", \"OH\", \"WI\"]\n",
    "    \n",
    "    highest_states = [\"OK\", \"AZ\", \"NE\", \"HI\", \"AK\", \"ID\", \"NM\", \"LA\", \"CO\", \"DE\"]"
   ]
  },
  {
   "cell_type": "code",
   "execution_count": 107,
   "metadata": {},
   "outputs": [
    {
     "name": "stdout",
     "output_type": "stream",
     "text": [
      "CA    74\n",
      "TX    42\n",
      "FL    28\n",
      "AZ    24\n",
      "OK    18\n",
      "GA    13\n",
      "NY    13\n",
      "WA    11\n",
      "CO    10\n",
      "NJ    10\n",
      "IL    10\n",
      "MO    10\n",
      "NC    10\n",
      "LA     9\n",
      "MD     9\n",
      "MI     9\n",
      "OH     9\n",
      "SC     8\n",
      "AL     8\n",
      "IN     8\n",
      "VA     8\n",
      "PA     7\n",
      "OR     7\n",
      "MN     6\n",
      "TN     6\n",
      "KY     6\n",
      "KS     6\n",
      "NM     5\n",
      "WI     5\n",
      "NE     5\n",
      "MA     5\n",
      "HI     4\n",
      "MS     4\n",
      "AR     4\n",
      "UT     4\n",
      "ID     3\n",
      "NV     3\n",
      "WV     2\n",
      "DE     2\n",
      "AK     2\n",
      "IA     2\n",
      "MT     2\n",
      "DC     1\n",
      "WY     1\n",
      "CT     1\n",
      "ME     1\n",
      "NH     1\n",
      "Name: state, dtype: int64\n",
      "pop                4264.833333\n",
      "county_income     55083.666667\n",
      "share_white          61.303704\n",
      "share_black          20.107407\n",
      "share_hispanic       13.335185\n",
      "dtype: float64\n",
      "pop                4243.914634\n",
      "county_income     48860.707317\n",
      "share_white          54.157317\n",
      "share_black          12.236585\n",
      "share_hispanic       21.673171\n",
      "dtype: float64\n"
     ]
    }
   ],
   "source": [
    "#Find the total killings per each state\n",
    "print(police['state'].value_counts())\n",
    "\n",
    "#Create a new dataframe and remove any \"-\" from the following columns \"share_white\", \"share_black\" and \"share_hispanic\"\n",
    "#Convert the values in those columns to float types\n",
    "police_sub = police[[\"share_white\", \"share_black\" , \"share_hispanic\"]].astype('float')\n",
    "\n",
    "lowest_states = [\"CT\", \"PA\", \"IA\", \"NY\", \"MA\", \"NH\", \"ME\", \"IL\", \"OH\", \"WI\"]\n",
    "highest_states = [\"OK\", \"AZ\", \"NE\", \"HI\", \"AK\", \"ID\", \"NM\", \"LA\", \"CO\", \"DE\"]\n",
    "\n",
    "police_low = police.loc[police['state'].isin(lowest_states), ['pop', 'county_income', \"share_white\", \"share_black\" , \"share_hispanic\"]]\n",
    "police_low = police_low.astype('float')\n",
    "print(police_low.mean())\n",
    "\n",
    "police_high= police.loc[police['state'].isin(highest_states), ['pop', 'county_income', \"share_white\", \"share_black\" , \"share_hispanic\"]]\n",
    "police_high = police_high.astype('float')\n",
    "print(police_high.mean())\n",
    "\n",
    "\n",
    "\n",
    "\n",
    "\n"
   ]
  },
  {
   "cell_type": "code",
   "execution_count": null,
   "metadata": {},
   "outputs": [],
   "source": []
  }
 ],
 "metadata": {
  "anaconda-cloud": {},
  "kernelspec": {
   "display_name": "Python 3",
   "language": "python",
   "name": "python3"
  },
  "language_info": {
   "codemirror_mode": {
    "name": "ipython",
    "version": 3
   },
   "file_extension": ".py",
   "mimetype": "text/x-python",
   "name": "python",
   "nbconvert_exporter": "python",
   "pygments_lexer": "ipython3",
   "version": "3.6.5"
  }
 },
 "nbformat": 4,
 "nbformat_minor": 1
}
